{
 "cells": [
  {
   "cell_type": "markdown",
   "source": [
    "# Подготовка данных"
   ],
   "metadata": {
    "collapsed": false,
    "pycharm": {
     "name": "#%% md\n"
    }
   }
  },
  {
   "cell_type": "markdown",
   "source": [
    "Предварительно исходные данные должны быть скачены в директорию datasets"
   ],
   "metadata": {
    "collapsed": false,
    "pycharm": {
     "name": "#%% md\n"
    }
   }
  },
  {
   "cell_type": "code",
   "execution_count": 6,
   "outputs": [],
   "source": [
    "import logging\n",
    "import os\n",
    "\n",
    "from tools.dataset_agregator import create_df_from_files, create_entities_df, create_spacy_dataset\n",
    "from settings import DATASET_DIR\n",
    "\n",
    "logging.basicConfig(format=u'[%(asctime)s] %(filename)s [%(levelname)s] %(message)s',\n",
    "                    level=logging.INFO, )\n",
    "marked_data_dir = os.path.join(DATASET_DIR, \"marked\")"
   ],
   "metadata": {
    "collapsed": false,
    "pycharm": {
     "name": "#%%\n"
    }
   }
  },
  {
   "cell_type": "markdown",
   "source": [
    "# Датафрейм c исходными размеченными данными"
   ],
   "metadata": {
    "collapsed": false,
    "pycharm": {
     "name": "#%% md\n"
    }
   }
  },
  {
   "cell_type": "code",
   "execution_count": 2,
   "outputs": [
    {
     "name": "stderr",
     "output_type": "stream",
     "text": [
      "[2022-06-11 18:06:10,625] dataset_agregator.py [INFO] Convert txt-files from F:\\JetBrains\\PycharmProjects\\NERTestTask\\dataset\\marked to pandas.Dataframe\n",
      "[2022-06-11 18:06:10,995] dataset_agregator.py [INFO] Result DataFrame successful saved to F:\\JetBrains\\PycharmProjects\\NERTestTask\\dataset\\dataset.csv\n"
     ]
    },
    {
     "data": {
      "text/plain": "                                            filename  \\\n0  2020.09.11_Talos_-_The_art_and_science_of_dete...   \n1                  APT Trends report Q2 2017.pdf.txt   \n2            apt-attack-middle-east-big-bang.pdf.txt   \n3                 APT28-Center-of-Storm-2017.pdf.txt   \n4              Backdoor.Winnti_Trojan.Skelky.pdf.txt   \n\n                                                text  \n0  page 1 of 29© 2020 <ORG>Cisco</ORG>. All right...  \n1  APT Trends report <TIMESTAMP>Q2 2017</TIMESTAM...  \n2  CHECKPOINT.COM  PUBLICATIONS TOOLS ABOUT US CO...  \n3  <ORG>FireEye</ORG> iSIGHT INTELLIGENCE  <COUNT...  \n4  <MALWARE>Backdoor.Winnti</MALWARE> attackers h...  ",
      "text/html": "<div>\n<style scoped>\n    .dataframe tbody tr th:only-of-type {\n        vertical-align: middle;\n    }\n\n    .dataframe tbody tr th {\n        vertical-align: top;\n    }\n\n    .dataframe thead th {\n        text-align: right;\n    }\n</style>\n<table border=\"1\" class=\"dataframe\">\n  <thead>\n    <tr style=\"text-align: right;\">\n      <th></th>\n      <th>filename</th>\n      <th>text</th>\n    </tr>\n  </thead>\n  <tbody>\n    <tr>\n      <th>0</th>\n      <td>2020.09.11_Talos_-_The_art_and_science_of_dete...</td>\n      <td>page 1 of 29© 2020 &lt;ORG&gt;Cisco&lt;/ORG&gt;. All right...</td>\n    </tr>\n    <tr>\n      <th>1</th>\n      <td>APT Trends report Q2 2017.pdf.txt</td>\n      <td>APT Trends report &lt;TIMESTAMP&gt;Q2 2017&lt;/TIMESTAM...</td>\n    </tr>\n    <tr>\n      <th>2</th>\n      <td>apt-attack-middle-east-big-bang.pdf.txt</td>\n      <td>CHECKPOINT.COM  PUBLICATIONS TOOLS ABOUT US CO...</td>\n    </tr>\n    <tr>\n      <th>3</th>\n      <td>APT28-Center-of-Storm-2017.pdf.txt</td>\n      <td>&lt;ORG&gt;FireEye&lt;/ORG&gt; iSIGHT INTELLIGENCE  &lt;COUNT...</td>\n    </tr>\n    <tr>\n      <th>4</th>\n      <td>Backdoor.Winnti_Trojan.Skelky.pdf.txt</td>\n      <td>&lt;MALWARE&gt;Backdoor.Winnti&lt;/MALWARE&gt; attackers h...</td>\n    </tr>\n  </tbody>\n</table>\n</div>"
     },
     "execution_count": 2,
     "metadata": {},
     "output_type": "execute_result"
    }
   ],
   "source": [
    "source_df = create_df_from_files(marked_data_dir,\n",
    "                                 save_to_scv=True,\n",
    "                                 )\n",
    "source_df.head()"
   ],
   "metadata": {
    "collapsed": false,
    "pycharm": {
     "name": "#%%\n"
    }
   }
  },
  {
   "cell_type": "code",
   "execution_count": 3,
   "outputs": [
    {
     "name": "stdout",
     "output_type": "stream",
     "text": [
      "<class 'pandas.core.frame.DataFrame'>\n",
      "RangeIndex: 17 entries, 0 to 16\n",
      "Data columns (total 2 columns):\n",
      " #   Column    Non-Null Count  Dtype \n",
      "---  ------    --------------  ----- \n",
      " 0   filename  17 non-null     object\n",
      " 1   text      17 non-null     object\n",
      "dtypes: object(2)\n",
      "memory usage: 400.0+ bytes\n"
     ]
    }
   ],
   "source": [
    "source_df.info()"
   ],
   "metadata": {
    "collapsed": false,
    "pycharm": {
     "name": "#%%\n"
    }
   }
  },
  {
   "cell_type": "markdown",
   "source": [
    "# Датафрейм для аналитики и просмотра статистики"
   ],
   "metadata": {
    "collapsed": false,
    "pycharm": {
     "name": "#%% md\n"
    }
   }
  },
  {
   "cell_type": "code",
   "execution_count": 4,
   "outputs": [
    {
     "name": "stderr",
     "output_type": "stream",
     "text": [
      "[2022-06-11 18:06:11,115] dataset_agregator.py [INFO] Convert source pandas.Dataframe(columns=['filename', 'text']) to entities Dataframe\n",
      "F:\\JetBrains\\PycharmProjects\\NERTestTask\\dataset_agregator.py:109: FutureWarning: The frame.append method is deprecated and will be removed from pandas in a future version. Use pandas.concat instead.\n",
      "  entity_df = entity_df.append(res_df, ignore_index=True)\n",
      "[2022-06-11 18:06:13,631] dataset_agregator.py [INFO] Result DataFrame successful saved to F:\\JetBrains\\PycharmProjects\\NERTestTask\\dataset\\entities_dataset.csv\n"
     ]
    },
    {
     "data": {
      "text/plain": "                                            filename  tag         entity\n0  2020.09.11_Talos_-_The_art_and_science_of_dete...  CVE  CVE-2011-3544\n1  2020.09.11_Talos_-_The_art_and_science_of_dete...  CVE  CVE 2013-2465\n2  2020.09.11_Talos_-_The_art_and_science_of_dete...  CVE  CVE-2013-2465\n3  2020.09.11_Talos_-_The_art_and_science_of_dete...  CVE  CVE-2012-4681\n4  2020.09.11_Talos_-_The_art_and_science_of_dete...  CVE  CVE-2012-4681",
      "text/html": "<div>\n<style scoped>\n    .dataframe tbody tr th:only-of-type {\n        vertical-align: middle;\n    }\n\n    .dataframe tbody tr th {\n        vertical-align: top;\n    }\n\n    .dataframe thead th {\n        text-align: right;\n    }\n</style>\n<table border=\"1\" class=\"dataframe\">\n  <thead>\n    <tr style=\"text-align: right;\">\n      <th></th>\n      <th>filename</th>\n      <th>tag</th>\n      <th>entity</th>\n    </tr>\n  </thead>\n  <tbody>\n    <tr>\n      <th>0</th>\n      <td>2020.09.11_Talos_-_The_art_and_science_of_dete...</td>\n      <td>CVE</td>\n      <td>CVE-2011-3544</td>\n    </tr>\n    <tr>\n      <th>1</th>\n      <td>2020.09.11_Talos_-_The_art_and_science_of_dete...</td>\n      <td>CVE</td>\n      <td>CVE 2013-2465</td>\n    </tr>\n    <tr>\n      <th>2</th>\n      <td>2020.09.11_Talos_-_The_art_and_science_of_dete...</td>\n      <td>CVE</td>\n      <td>CVE-2013-2465</td>\n    </tr>\n    <tr>\n      <th>3</th>\n      <td>2020.09.11_Talos_-_The_art_and_science_of_dete...</td>\n      <td>CVE</td>\n      <td>CVE-2012-4681</td>\n    </tr>\n    <tr>\n      <th>4</th>\n      <td>2020.09.11_Talos_-_The_art_and_science_of_dete...</td>\n      <td>CVE</td>\n      <td>CVE-2012-4681</td>\n    </tr>\n  </tbody>\n</table>\n</div>"
     },
     "execution_count": 4,
     "metadata": {},
     "output_type": "execute_result"
    }
   ],
   "source": [
    "entities_df = create_entities_df(source_df,\n",
    "                                 save_to_scv=True,\n",
    "                                 )\n",
    "entities_df.head()"
   ],
   "metadata": {
    "collapsed": false,
    "pycharm": {
     "name": "#%%\n"
    }
   }
  },
  {
   "cell_type": "code",
   "execution_count": 5,
   "outputs": [
    {
     "name": "stdout",
     "output_type": "stream",
     "text": [
      "<class 'pandas.core.frame.DataFrame'>\n",
      "RangeIndex: 4541 entries, 0 to 4540\n",
      "Data columns (total 3 columns):\n",
      " #   Column    Non-Null Count  Dtype \n",
      "---  ------    --------------  ----- \n",
      " 0   filename  4541 non-null   object\n",
      " 1   tag       4541 non-null   object\n",
      " 2   entity    4541 non-null   object\n",
      "dtypes: object(3)\n",
      "memory usage: 106.6+ KB\n"
     ]
    }
   ],
   "source": [
    "entities_df.info()"
   ],
   "metadata": {
    "collapsed": false,
    "pycharm": {
     "name": "#%%\n"
    }
   }
  },
  {
   "cell_type": "code",
   "execution_count": 5,
   "outputs": [],
   "source": [],
   "metadata": {
    "collapsed": false,
    "pycharm": {
     "name": "#%%\n"
    }
   }
  },
  {
   "cell_type": "code",
   "execution_count": 5,
   "outputs": [],
   "source": [],
   "metadata": {
    "collapsed": false,
    "pycharm": {
     "name": "#%%\n"
    }
   }
  },
  {
   "cell_type": "code",
   "execution_count": null,
   "outputs": [],
   "source": [],
   "metadata": {
    "collapsed": false,
    "pycharm": {
     "name": "#%%\n"
    }
   }
  }
 ],
 "metadata": {
  "kernelspec": {
   "display_name": "Python 3",
   "language": "python",
   "name": "python3"
  },
  "language_info": {
   "codemirror_mode": {
    "name": "ipython",
    "version": 2
   },
   "file_extension": ".py",
   "mimetype": "text/x-python",
   "name": "python",
   "nbconvert_exporter": "python",
   "pygments_lexer": "ipython2",
   "version": "2.7.6"
  }
 },
 "nbformat": 4,
 "nbformat_minor": 0
}