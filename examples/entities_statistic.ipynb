{
 "cells": [
  {
   "cell_type": "markdown",
   "source": [
    "# Статистика по сущностям в исходном размеченом наборе данных"
   ],
   "metadata": {
    "collapsed": false,
    "pycharm": {
     "name": "#%% md\n"
    }
   }
  },
  {
   "cell_type": "code",
   "execution_count": 1,
   "outputs": [
    {
     "data": {
      "text/plain": "                                            filename  tag         entity\n0  2020.09.11_Talos_-_The_art_and_science_of_dete...  CVE  CVE-2011-3544\n1  2020.09.11_Talos_-_The_art_and_science_of_dete...  CVE  CVE 2013-2465\n2  2020.09.11_Talos_-_The_art_and_science_of_dete...  CVE  CVE-2013-2465\n3  2020.09.11_Talos_-_The_art_and_science_of_dete...  CVE  CVE-2012-4681\n4  2020.09.11_Talos_-_The_art_and_science_of_dete...  CVE  CVE-2012-4681",
      "text/html": "<div>\n<style scoped>\n    .dataframe tbody tr th:only-of-type {\n        vertical-align: middle;\n    }\n\n    .dataframe tbody tr th {\n        vertical-align: top;\n    }\n\n    .dataframe thead th {\n        text-align: right;\n    }\n</style>\n<table border=\"1\" class=\"dataframe\">\n  <thead>\n    <tr style=\"text-align: right;\">\n      <th></th>\n      <th>filename</th>\n      <th>tag</th>\n      <th>entity</th>\n    </tr>\n  </thead>\n  <tbody>\n    <tr>\n      <th>0</th>\n      <td>2020.09.11_Talos_-_The_art_and_science_of_dete...</td>\n      <td>CVE</td>\n      <td>CVE-2011-3544</td>\n    </tr>\n    <tr>\n      <th>1</th>\n      <td>2020.09.11_Talos_-_The_art_and_science_of_dete...</td>\n      <td>CVE</td>\n      <td>CVE 2013-2465</td>\n    </tr>\n    <tr>\n      <th>2</th>\n      <td>2020.09.11_Talos_-_The_art_and_science_of_dete...</td>\n      <td>CVE</td>\n      <td>CVE-2013-2465</td>\n    </tr>\n    <tr>\n      <th>3</th>\n      <td>2020.09.11_Talos_-_The_art_and_science_of_dete...</td>\n      <td>CVE</td>\n      <td>CVE-2012-4681</td>\n    </tr>\n    <tr>\n      <th>4</th>\n      <td>2020.09.11_Talos_-_The_art_and_science_of_dete...</td>\n      <td>CVE</td>\n      <td>CVE-2012-4681</td>\n    </tr>\n  </tbody>\n</table>\n</div>"
     },
     "execution_count": 1,
     "metadata": {},
     "output_type": "execute_result"
    }
   ],
   "source": [
    "import pandas as pd\n",
    "\n",
    "df = pd.read_csv(r\"../dataset/entities_dataset.csv\")\n",
    "df.head()"
   ],
   "metadata": {
    "collapsed": false,
    "pycharm": {
     "name": "#%%\n"
    }
   }
  },
  {
   "cell_type": "code",
   "execution_count": 2,
   "outputs": [
    {
     "name": "stdout",
     "output_type": "stream",
     "text": [
      "<class 'pandas.core.frame.DataFrame'>\n",
      "RangeIndex: 4541 entries, 0 to 4540\n",
      "Data columns (total 3 columns):\n",
      " #   Column    Non-Null Count  Dtype \n",
      "---  ------    --------------  ----- \n",
      " 0   filename  4541 non-null   object\n",
      " 1   tag       4541 non-null   object\n",
      " 2   entity    4541 non-null   object\n",
      "dtypes: object(3)\n",
      "memory usage: 106.6+ KB\n"
     ]
    }
   ],
   "source": [
    "df.info()"
   ],
   "metadata": {
    "collapsed": false,
    "pycharm": {
     "name": "#%%\n"
    }
   }
  },
  {
   "cell_type": "code",
   "execution_count": 3,
   "outputs": [
    {
     "data": {
      "text/plain": "                                               filename        tag  \\\n0     2020.09.11_Talos_-_The_art_and_science_of_dete...        CVE   \n1     2020.09.11_Talos_-_The_art_and_science_of_dete...        CVE   \n2     2020.09.11_Talos_-_The_art_and_science_of_dete...        CVE   \n3     2020.09.11_Talos_-_The_art_and_science_of_dete...        CVE   \n4     2020.09.11_Talos_-_The_art_and_science_of_dete...        CVE   \n...                                                 ...        ...   \n4536                    wp-operation-pawn-storm.pdf.txt  TIMESTAMP   \n4537                    wp-operation-pawn-storm.pdf.txt  TIMESTAMP   \n4538                    wp-operation-pawn-storm.pdf.txt  TIMESTAMP   \n4539                    wp-operation-pawn-storm.pdf.txt  TIMESTAMP   \n4540                    wp-operation-pawn-storm.pdf.txt  TIMESTAMP   \n\n                 entity  \n0         CVE-2011-3544  \n1         CVE 2013-2465  \n2         CVE-2013-2465  \n3         CVE-2012-4681  \n4         CVE-2012-4681  \n...                 ...  \n4536   October 21, 2014  \n4537         October 21  \n4538   October 22, 2014  \n4539  October 22,  2014  \n4540  October  21, 2014  \n\n[4541 rows x 3 columns]",
      "text/html": "<div>\n<style scoped>\n    .dataframe tbody tr th:only-of-type {\n        vertical-align: middle;\n    }\n\n    .dataframe tbody tr th {\n        vertical-align: top;\n    }\n\n    .dataframe thead th {\n        text-align: right;\n    }\n</style>\n<table border=\"1\" class=\"dataframe\">\n  <thead>\n    <tr style=\"text-align: right;\">\n      <th></th>\n      <th>filename</th>\n      <th>tag</th>\n      <th>entity</th>\n    </tr>\n  </thead>\n  <tbody>\n    <tr>\n      <th>0</th>\n      <td>2020.09.11_Talos_-_The_art_and_science_of_dete...</td>\n      <td>CVE</td>\n      <td>CVE-2011-3544</td>\n    </tr>\n    <tr>\n      <th>1</th>\n      <td>2020.09.11_Talos_-_The_art_and_science_of_dete...</td>\n      <td>CVE</td>\n      <td>CVE 2013-2465</td>\n    </tr>\n    <tr>\n      <th>2</th>\n      <td>2020.09.11_Talos_-_The_art_and_science_of_dete...</td>\n      <td>CVE</td>\n      <td>CVE-2013-2465</td>\n    </tr>\n    <tr>\n      <th>3</th>\n      <td>2020.09.11_Talos_-_The_art_and_science_of_dete...</td>\n      <td>CVE</td>\n      <td>CVE-2012-4681</td>\n    </tr>\n    <tr>\n      <th>4</th>\n      <td>2020.09.11_Talos_-_The_art_and_science_of_dete...</td>\n      <td>CVE</td>\n      <td>CVE-2012-4681</td>\n    </tr>\n    <tr>\n      <th>...</th>\n      <td>...</td>\n      <td>...</td>\n      <td>...</td>\n    </tr>\n    <tr>\n      <th>4536</th>\n      <td>wp-operation-pawn-storm.pdf.txt</td>\n      <td>TIMESTAMP</td>\n      <td>October 21, 2014</td>\n    </tr>\n    <tr>\n      <th>4537</th>\n      <td>wp-operation-pawn-storm.pdf.txt</td>\n      <td>TIMESTAMP</td>\n      <td>October 21</td>\n    </tr>\n    <tr>\n      <th>4538</th>\n      <td>wp-operation-pawn-storm.pdf.txt</td>\n      <td>TIMESTAMP</td>\n      <td>October 22, 2014</td>\n    </tr>\n    <tr>\n      <th>4539</th>\n      <td>wp-operation-pawn-storm.pdf.txt</td>\n      <td>TIMESTAMP</td>\n      <td>October 22,  2014</td>\n    </tr>\n    <tr>\n      <th>4540</th>\n      <td>wp-operation-pawn-storm.pdf.txt</td>\n      <td>TIMESTAMP</td>\n      <td>October  21, 2014</td>\n    </tr>\n  </tbody>\n</table>\n<p>4541 rows × 3 columns</p>\n</div>"
     },
     "execution_count": 3,
     "metadata": {},
     "output_type": "execute_result"
    }
   ],
   "source": [
    "df"
   ],
   "metadata": {
    "collapsed": false,
    "pycharm": {
     "name": "#%%\n"
    }
   }
  },
  {
   "cell_type": "code",
   "execution_count": 4,
   "outputs": [
    {
     "data": {
      "text/plain": "THREAT_ACTOR      1043\nORG                846\nMALWARE            721\nTIMESTAMP          530\nSOFTWARE           482\nCOUNTRY            403\nCAMPAIGN           140\nCITY               131\nINDUSTRY            92\nCVE                 74\nTOOL                54\nMITRE_ATTACK        24\nATTACK_PATTERN       1\nName: tag, dtype: int64"
     },
     "execution_count": 4,
     "metadata": {},
     "output_type": "execute_result"
    }
   ],
   "source": [
    "# Статистика по тегам в датафрейме\n",
    "counter_dict = df.tag.value_counts()\n",
    "counter_dict"
   ],
   "metadata": {
    "collapsed": false,
    "pycharm": {
     "name": "#%%\n"
    }
   }
  },
  {
   "cell_type": "code",
   "execution_count": 5,
   "outputs": [
    {
     "data": {
      "text/plain": "<AxesSubplot:>"
     },
     "execution_count": 5,
     "metadata": {},
     "output_type": "execute_result"
    },
    {
     "data": {
      "text/plain": "<Figure size 432x288 with 1 Axes>",
      "image/png": "[encoded data removed]"
     },
     "metadata": {
      "needs_background": "light"
     },
     "output_type": "display_data"
    }
   ],
   "source": [
    "counter_dict.plot(kind=\"bar\")"
   ],
   "metadata": {
    "collapsed": false,
    "pycharm": {
     "name": "#%%\n"
    }
   }
  },
  {
   "cell_type": "code",
   "execution_count": 5,
   "outputs": [],
   "source": [],
   "metadata": {
    "collapsed": false,
    "pycharm": {
     "name": "#%%\n"
    }
   }
  },
  {
   "cell_type": "code",
   "execution_count": null,
   "outputs": [],
   "source": [],
   "metadata": {
    "collapsed": false,
    "pycharm": {
     "name": "#%%\n"
    }
   }
  }
 ],
 "metadata": {
  "kernelspec": {
   "display_name": "Python 3",
   "language": "python",
   "name": "python3"
  },
  "language_info": {
   "codemirror_mode": {
    "name": "ipython",
    "version": 2
   },
   "file_extension": ".py",
   "mimetype": "text/x-python",
   "name": "python",
   "nbconvert_exporter": "python",
   "pygments_lexer": "ipython2",
   "version": "2.7.6"
  }
 },
 "nbformat": 4,
 "nbformat_minor": 0
}