{
 "cells": [
  {
   "cell_type": "markdown",
   "source": [
    "# Статистика по сущностям в исходном размеченом наборе данных"
   ],
   "metadata": {
    "collapsed": false,
    "pycharm": {
     "name": "#%% md\n"
    }
   }
  },
  {
   "cell_type": "code",
   "execution_count": 18,
   "outputs": [
    {
     "data": {
      "text/plain": "                                            filename       tag       entity\n0  2020.09.11_Talos_-_The_art_and_science_of_dete...  SOFTWARE   PowerShell\n1  2020.09.11_Talos_-_The_art_and_science_of_dete...  SOFTWARE        SNORT\n2  2020.09.11_Talos_-_The_art_and_science_of_dete...  SOFTWARE       ClamAV\n3  2020.09.11_Talos_-_The_art_and_science_of_dete...  SOFTWARE         Java\n4  2020.09.11_Talos_-_The_art_and_science_of_dete...  SOFTWARE  Windows API",
      "text/html": "<div>\n<style scoped>\n    .dataframe tbody tr th:only-of-type {\n        vertical-align: middle;\n    }\n\n    .dataframe tbody tr th {\n        vertical-align: top;\n    }\n\n    .dataframe thead th {\n        text-align: right;\n    }\n</style>\n<table border=\"1\" class=\"dataframe\">\n  <thead>\n    <tr style=\"text-align: right;\">\n      <th></th>\n      <th>filename</th>\n      <th>tag</th>\n      <th>entity</th>\n    </tr>\n  </thead>\n  <tbody>\n    <tr>\n      <th>0</th>\n      <td>2020.09.11_Talos_-_The_art_and_science_of_dete...</td>\n      <td>SOFTWARE</td>\n      <td>PowerShell</td>\n    </tr>\n    <tr>\n      <th>1</th>\n      <td>2020.09.11_Talos_-_The_art_and_science_of_dete...</td>\n      <td>SOFTWARE</td>\n      <td>SNORT</td>\n    </tr>\n    <tr>\n      <th>2</th>\n      <td>2020.09.11_Talos_-_The_art_and_science_of_dete...</td>\n      <td>SOFTWARE</td>\n      <td>ClamAV</td>\n    </tr>\n    <tr>\n      <th>3</th>\n      <td>2020.09.11_Talos_-_The_art_and_science_of_dete...</td>\n      <td>SOFTWARE</td>\n      <td>Java</td>\n    </tr>\n    <tr>\n      <th>4</th>\n      <td>2020.09.11_Talos_-_The_art_and_science_of_dete...</td>\n      <td>SOFTWARE</td>\n      <td>Windows API</td>\n    </tr>\n  </tbody>\n</table>\n</div>"
     },
     "execution_count": 18,
     "metadata": {},
     "output_type": "execute_result"
    }
   ],
   "source": [
    "import pandas as pd\n",
    "\n",
    "df = pd.read_csv(r\"../entities_dataset.csv\")\n",
    "df.head()"
   ],
   "metadata": {
    "collapsed": false,
    "pycharm": {
     "name": "#%%\n"
    }
   }
  },
  {
   "cell_type": "code",
   "execution_count": 19,
   "outputs": [
    {
     "name": "stdout",
     "output_type": "stream",
     "text": [
      "<class 'pandas.core.frame.DataFrame'>\n",
      "RangeIndex: 1168 entries, 0 to 1167\n",
      "Data columns (total 3 columns):\n",
      " #   Column    Non-Null Count  Dtype \n",
      "---  ------    --------------  ----- \n",
      " 0   filename  1168 non-null   object\n",
      " 1   tag       1168 non-null   object\n",
      " 2   entity    1168 non-null   object\n",
      "dtypes: object(3)\n",
      "memory usage: 27.5+ KB\n"
     ]
    }
   ],
   "source": [
    "df.info()"
   ],
   "metadata": {
    "collapsed": false,
    "pycharm": {
     "name": "#%%\n"
    }
   }
  },
  {
   "cell_type": "code",
   "execution_count": 20,
   "outputs": [
    {
     "data": {
      "text/plain": "ORG               240\nTIMESTAMP         236\nMALWARE           170\nSOFTWARE          164\nCOUNTRY           141\nTHREAT_ACTOR       74\nINDUSTRY           59\nCITY               33\nMITRE_ATTACK       22\nTOOL               20\nCAMPAIGN            8\nATTACK_PATTERN      1\nName: tag, dtype: int64"
     },
     "execution_count": 20,
     "metadata": {},
     "output_type": "execute_result"
    }
   ],
   "source": [
    "# Статистика по тегам в датафрейме\n",
    "counter_dict = df.tag.value_counts()\n",
    "counter_dict"
   ],
   "metadata": {
    "collapsed": false,
    "pycharm": {
     "name": "#%%\n"
    }
   }
  },
  {
   "cell_type": "code",
   "execution_count": 21,
   "outputs": [
    {
     "data": {
      "text/plain": "<AxesSubplot:>"
     },
     "execution_count": 21,
     "metadata": {},
     "output_type": "execute_result"
    },
    {
     "data": {
      "text/plain": "<Figure size 432x288 with 1 Axes>",
      "image/png": "[encoded data removed]"
     },
     "metadata": {
      "needs_background": "light"
     },
     "output_type": "display_data"
    }
   ],
   "source": [
    "counter_dict.plot(kind=\"bar\")"
   ],
   "metadata": {
    "collapsed": false,
    "pycharm": {
     "name": "#%%\n"
    }
   }
  },
  {
   "cell_type": "code",
   "execution_count": null,
   "outputs": [],
   "source": [],
   "metadata": {
    "collapsed": false,
    "pycharm": {
     "name": "#%%\n"
    }
   }
  }
 ],
 "metadata": {
  "kernelspec": {
   "display_name": "Python 3",
   "language": "python",
   "name": "python3"
  },
  "language_info": {
   "codemirror_mode": {
    "name": "ipython",
    "version": 2
   },
   "file_extension": ".py",
   "mimetype": "text/x-python",
   "name": "python",
   "nbconvert_exporter": "python",
   "pygments_lexer": "ipython2",
   "version": "2.7.6"
  }
 },
 "nbformat": 4,
 "nbformat_minor": 0
}